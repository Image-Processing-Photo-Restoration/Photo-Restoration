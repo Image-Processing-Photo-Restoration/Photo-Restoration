{
 "cells": [
  {
   "cell_type": "markdown",
   "id": "3e464449",
   "metadata": {},
   "source": [
    "We need to evaluate features we can try and improve and restore for photos, this includes - \n",
    "    - Blurriness\n",
    "    - Blemishes\n",
    "    - Colour Faded/Low Saturations, etc"
   ]
  },
  {
   "cell_type": "code",
   "execution_count": null,
   "id": "fe5be8b8",
   "metadata": {
    "vscode": {
     "languageId": "plaintext"
    }
   },
   "outputs": [],
   "source": []
  }
 ],
 "metadata": {
  "language_info": {
   "name": "python"
  }
 },
 "nbformat": 4,
 "nbformat_minor": 5
}
