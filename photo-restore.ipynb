{
 "cells": [
  {
   "cell_type": "markdown",
   "id": "3e464449",
   "metadata": {},
   "source": [
    "We need to evaluate features we can try and improve and restore for photos, this includes - \n",
    "    - Blurriness\n",
    "    - Blemishes\n",
    "    - Colour Faded/Low Saturations, etc"
   ]
  },
  {
   "cell_type": "markdown",
   "id": "94de5cab",
   "metadata": {},
   "source": [
    "Sharpening Photos "
   ]
  },
  {
   "cell_type": "code",
   "execution_count": 2,
   "id": "fe5be8b8",
   "metadata": {},
   "outputs": [],
   "source": [
    "import cv2\n",
    "import numpy as np\n",
    "\n",
    "photo = cv2.imread('sample-photos/old_photo_01.jpg')\n",
    "cv2.imshow('Original Image', photo)\n",
    "cv2.waitKey(0)\n",
    "cv2.destroyAllWindows()\n",
    "k = np.array([[0,-1,0], [-1,5,-1], [0,-1,0]],dtype=float)\n",
    "k = k / k.sum()\n",
    "sharp = cv2.filter2D(photo, -1, k)\n",
    "cv2.imshow('Sharp Photo', sharp)\n",
    "cv2.waitKey(0)\n",
    "cv2.destroyAllWindows()"
   ]
  }
 ],
 "metadata": {
  "kernelspec": {
   "display_name": "Python 3",
   "language": "python",
   "name": "python3"
  },
  "language_info": {
   "codemirror_mode": {
    "name": "ipython",
    "version": 3
   },
   "file_extension": ".py",
   "mimetype": "text/x-python",
   "name": "python",
   "nbconvert_exporter": "python",
   "pygments_lexer": "ipython3",
   "version": "3.11.4"
  }
 },
 "nbformat": 4,
 "nbformat_minor": 5
}
